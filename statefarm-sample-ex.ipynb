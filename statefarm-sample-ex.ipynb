{
 "cells": [
  {
   "cell_type": "markdown",
   "metadata": {},
   "source": [
    "## Prepare the environment"
   ]
  },
  {
   "cell_type": "code",
   "execution_count": 1,
   "metadata": {
    "collapsed": false
   },
   "outputs": [
    {
     "name": "stderr",
     "output_type": "stream",
     "text": [
      "Using gpu device 0: Tesla K80 (CNMeM is disabled, cuDNN 5103)\n",
      "/home/ubuntu/anaconda2/lib/python2.7/site-packages/theano/sandbox/cuda/__init__.py:600: UserWarning: Your cuDNN version is more recent than the one Theano officially supports. If you see any problems, try updating Theano or downgrading cuDNN to version 5.\n",
      "  warnings.warn(warn)\n",
      "WARNING (theano.sandbox.cuda): Ignoring call to use(1), GPU number 0 is already in use.\n"
     ]
    }
   ],
   "source": [
    "from theano.sandbox import cuda\n",
    "cuda.use('gpu1')"
   ]
  },
  {
   "cell_type": "code",
   "execution_count": 22,
   "metadata": {
    "collapsed": false
   },
   "outputs": [
    {
     "data": {
      "text/plain": [
       "'/home/ubuntu/nbs/statefarm/data'"
      ]
     },
     "execution_count": 22,
     "metadata": {},
     "output_type": "execute_result"
    }
   ],
   "source": [
    "import os, sys\n",
    "cur_dir = os.getcwd()\n",
    "DATA_HOME_DIR = cur_dir + '/data'\n",
    "DATA_HOME_DIR"
   ]
  },
  {
   "cell_type": "code",
   "execution_count": 23,
   "metadata": {
    "collapsed": true
   },
   "outputs": [],
   "source": [
    "sys.path.insert(1, os.path.join(sys.path[0], '../../utils'))"
   ]
  },
  {
   "cell_type": "code",
   "execution_count": 24,
   "metadata": {
    "collapsed": false
   },
   "outputs": [],
   "source": [
    "%matplotlib inline\n",
    "from __future__ import print_function, division\n",
    "#path = \"data/state/\"\n",
    "path = \"data/state/sample/\"\n",
    "import utils; reload(utils)\n",
    "from utils import *\n",
    "from IPython.display import FileLink"
   ]
  },
  {
   "cell_type": "code",
   "execution_count": 25,
   "metadata": {
    "collapsed": true
   },
   "outputs": [],
   "source": [
    "TRAIN_DATA_DIR = DATA_HOME_DIR + '/train'\n",
    "VALID_DATA_DIR = DATA_HOME_DIR + '/valid'\n",
    "TEST_DATA_DIR = DATA_HOME_DIR + '/test'\n",
    "\n",
    "SAMPLE_TRAIN_DATA_DIR = DATA_HOME_DIR + '/sample/train'\n",
    "SAMPLE_VALID_DATA_DIR = DATA_HOME_DIR + '/sample/valid'\n",
    "SAMPLE_TEST_DATA_DIR = DATA_HOME_DIR + '/sample/test'"
   ]
  },
  {
   "cell_type": "code",
   "execution_count": 28,
   "metadata": {
    "collapsed": false
   },
   "outputs": [
    {
     "name": "stdout",
     "output_type": "stream",
     "text": [
      "/home/ubuntu/nbs/statefarm/data\n"
     ]
    }
   ],
   "source": [
    "%cd $DATA_HOME_DIR\n",
    "\n",
    "os.mkdir('valid')\n",
    "os.mkdir('result')\n",
    "os.mkdir('sample')\n",
    "os.mkdir('sample/train')\n",
    "os.mkdir('sample/valid')\n",
    "os.mkdir('sample/test')\n",
    "os.mkdir('sample/result')"
   ]
  },
  {
   "cell_type": "code",
   "execution_count": 29,
   "metadata": {
    "collapsed": false
   },
   "outputs": [
    {
     "data": {
      "text/plain": [
       "'/home/ubuntu/nbs/statefarm/data'"
      ]
     },
     "execution_count": 29,
     "metadata": {},
     "output_type": "execute_result"
    }
   ],
   "source": [
    "DATA_HOME_DIR"
   ]
  },
  {
   "cell_type": "code",
   "execution_count": 42,
   "metadata": {
    "collapsed": false
   },
   "outputs": [
    {
     "name": "stdout",
     "output_type": "stream",
     "text": [
      "/home/ubuntu/nbs/statefarm/data/train\n"
     ]
    }
   ],
   "source": [
    "%cd $TRAIN_DATA_DIR"
   ]
  },
  {
   "cell_type": "code",
   "execution_count": 32,
   "metadata": {
    "collapsed": true
   },
   "outputs": [],
   "source": [
    "for i in glob('c?'):\n",
    "    os.mkdir('../sample/train/' + i)\n",
    "    os.mkdir('../sample/valid/' + i)"
   ]
  },
  {
   "cell_type": "code",
   "execution_count": 43,
   "metadata": {
    "collapsed": true
   },
   "outputs": [],
   "source": [
    "for i in glob('c?'):\n",
    "    os.mkdir('../valid/' + i)"
   ]
  },
  {
   "cell_type": "code",
   "execution_count": 44,
   "metadata": {
    "collapsed": true
   },
   "outputs": [],
   "source": [
    "for d in glob('c?'):\n",
    "    g = glob(d+'/*.jpg')\n",
    "    shuffle = np.random.permutation(g)\n",
    "    for i in range(500):\n",
    "        os.rename(shuffle[i], '../valid/' + shuffle[i])"
   ]
  },
  {
   "cell_type": "markdown",
   "metadata": {},
   "source": [
    "## Copy files to sample data"
   ]
  },
  {
   "cell_type": "code",
   "execution_count": 33,
   "metadata": {
    "collapsed": true
   },
   "outputs": [],
   "source": [
    "from shutil import copyfile"
   ]
  },
  {
   "cell_type": "code",
   "execution_count": 37,
   "metadata": {
    "collapsed": false
   },
   "outputs": [
    {
     "data": {
      "text/plain": [
       "'/home/ubuntu/nbs/statefarm/data/train'"
      ]
     },
     "execution_count": 37,
     "metadata": {},
     "output_type": "execute_result"
    }
   ],
   "source": [
    "os.getcwd()"
   ]
  },
  {
   "cell_type": "code",
   "execution_count": 38,
   "metadata": {
    "collapsed": false
   },
   "outputs": [],
   "source": [
    "for d in glob('c?'):\n",
    "    g = glob(d+'/*.jpg')\n",
    "    shuffle = np.random.permutation(g)\n",
    "    for i in range(100):\n",
    "        copyfile(shuffle[i], '../sample/train/' + shuffle[i])"
   ]
  },
  {
   "cell_type": "code",
   "execution_count": 45,
   "metadata": {
    "collapsed": false
   },
   "outputs": [
    {
     "name": "stdout",
     "output_type": "stream",
     "text": [
      "/home/ubuntu/nbs/statefarm/data/valid\n"
     ]
    }
   ],
   "source": [
    "%cd $VALID_DATA_DIR"
   ]
  },
  {
   "cell_type": "code",
   "execution_count": 47,
   "metadata": {
    "collapsed": true
   },
   "outputs": [],
   "source": [
    "for d in glob('c?'):\n",
    "    g = glob(d+'/*.jpg')\n",
    "    shuffle = np.random.permutation(g)\n",
    "    for i in range(25):\n",
    "        copyfile(shuffle[i], '../sample/valid/' + shuffle[i])"
   ]
  },
  {
   "cell_type": "markdown",
   "metadata": {},
   "source": [
    "## Model creation and fitting"
   ]
  },
  {
   "cell_type": "markdown",
   "metadata": {},
   "source": [
    "### Linear model"
   ]
  },
  {
   "cell_type": "code",
   "execution_count": 49,
   "metadata": {
    "collapsed": false
   },
   "outputs": [
    {
     "name": "stdout",
     "output_type": "stream",
     "text": [
      "Found 1000 images belonging to 10 classes.\n",
      "Found 250 images belonging to 10 classes.\n"
     ]
    }
   ],
   "source": [
    "gen = image.ImageDataGenerator()\n",
    "batches = gen.flow_from_directory(SAMPLE_TRAIN_DATA_DIR, batch_size=64)\n",
    "valid_batches = gen.flow_from_directory(SAMPLE_VALID_DATA_DIR, batch_size=64)"
   ]
  },
  {
   "cell_type": "code",
   "execution_count": 63,
   "metadata": {
    "collapsed": false
   },
   "outputs": [
    {
     "name": "stdout",
     "output_type": "stream",
     "text": [
      "____________________________________________________________________________________________________\n",
      "Layer (type)                     Output Shape          Param #     Connected to                     \n",
      "====================================================================================================\n",
      "batchnormalization_3 (BatchNormal(None, 3, 256, 256)   6           batchnormalization_input_3[0][0] \n",
      "____________________________________________________________________________________________________\n",
      "flatten_3 (Flatten)              (None, 196608)        0           batchnormalization_3[0][0]       \n",
      "____________________________________________________________________________________________________\n",
      "dense_3 (Dense)                  (None, 10)            1966090     flatten_3[0][0]                  \n",
      "====================================================================================================\n",
      "Total params: 1966096\n",
      "____________________________________________________________________________________________________\n"
     ]
    }
   ],
   "source": [
    "model = Sequential()\n",
    "model.add(BatchNormalization(axis=1, input_shape=(3,256,256)))\n",
    "model.add(Flatten())\n",
    "model.add(Dense(10, activation='softmax'))\n",
    "model.compile(Adam(), loss='categorical_crossentropy', metrics=['accuracy'])\n",
    "\n",
    "model.summary()"
   ]
  },
  {
   "cell_type": "code",
   "execution_count": 65,
   "metadata": {
    "collapsed": false
   },
   "outputs": [
    {
     "name": "stdout",
     "output_type": "stream",
     "text": [
      "Epoch 1/3\n",
      "1000/1000 [==============================] - 20s - loss: 1.2787 - acc: 0.6210 - val_loss: 1.4516 - val_acc: 0.5520\n",
      "Epoch 2/3\n",
      "1000/1000 [==============================] - 19s - loss: 1.0539 - acc: 0.7290 - val_loss: 1.5118 - val_acc: 0.5640\n",
      "Epoch 3/3\n",
      "1000/1000 [==============================] - 15s - loss: 0.8986 - acc: 0.7920 - val_loss: 1.2096 - val_acc: 0.5960\n"
     ]
    },
    {
     "data": {
      "text/plain": [
       "<keras.callbacks.History at 0x7f7f5347a290>"
      ]
     },
     "execution_count": 65,
     "metadata": {},
     "output_type": "execute_result"
    }
   ],
   "source": [
    "# modify learning rate to see improvement\n",
    "model.optimizer.lr = 1e-4\n",
    "model.fit_generator(batches, batches.N, nb_epoch=3,\n",
    "                    validation_data=valid_batches, nb_val_samples=valid_batches.N)"
   ]
  },
  {
   "cell_type": "code",
   "execution_count": 66,
   "metadata": {
    "collapsed": false
   },
   "outputs": [
    {
     "data": {
      "text/plain": [
       "array([[ 0.6 ,  0.03,  0.01,  0.01,  0.09,  0.05,  0.  ,  0.  ,  0.  ,  0.21],\n",
       "       [ 0.  ,  0.03,  0.  ,  0.01,  0.06,  0.01,  0.  ,  0.03,  0.05,  0.81],\n",
       "       [ 0.71,  0.03,  0.09,  0.  ,  0.11,  0.01,  0.  ,  0.  ,  0.02,  0.02],\n",
       "       [ 0.01,  0.  ,  0.01,  0.04,  0.64,  0.  ,  0.01,  0.01,  0.  ,  0.28],\n",
       "       [ 0.02,  0.01,  0.  ,  0.09,  0.75,  0.  ,  0.  ,  0.04,  0.  ,  0.07],\n",
       "       [ 0.  ,  0.  ,  0.  ,  0.22,  0.44,  0.01,  0.  ,  0.  ,  0.01,  0.3 ],\n",
       "       [ 0.  ,  0.04,  0.37,  0.07,  0.1 ,  0.01,  0.01,  0.13,  0.04,  0.23],\n",
       "       [ 0.01,  0.84,  0.05,  0.01,  0.01,  0.01,  0.01,  0.01,  0.02,  0.04],\n",
       "       [ 0.  ,  0.  ,  0.06,  0.  ,  0.02,  0.83,  0.04,  0.01,  0.01,  0.03],\n",
       "       [ 0.6 ,  0.01,  0.  ,  0.01,  0.11,  0.  ,  0.01,  0.  ,  0.01,  0.25]], dtype=float32)"
      ]
     },
     "execution_count": 66,
     "metadata": {},
     "output_type": "execute_result"
    }
   ],
   "source": [
    "np.round(model.predict_generator(batches, batches.N)[:10],2)"
   ]
  },
  {
   "cell_type": "markdown",
   "metadata": {},
   "source": [
    "### Single hidden layer (linear model)"
   ]
  },
  {
   "cell_type": "code",
   "execution_count": 67,
   "metadata": {
    "collapsed": false
   },
   "outputs": [
    {
     "name": "stdout",
     "output_type": "stream",
     "text": [
      "____________________________________________________________________________________________________\n",
      "Layer (type)                     Output Shape          Param #     Connected to                     \n",
      "====================================================================================================\n",
      "batchnormalization_4 (BatchNormal(None, 3, 256, 256)   6           batchnormalization_input_4[0][0] \n",
      "____________________________________________________________________________________________________\n",
      "flatten_4 (Flatten)              (None, 196608)        0           batchnormalization_4[0][0]       \n",
      "____________________________________________________________________________________________________\n",
      "dense_4 (Dense)                  (None, 100)           19660900    flatten_4[0][0]                  \n",
      "____________________________________________________________________________________________________\n",
      "batchnormalization_5 (BatchNormal(None, 100)           200         dense_4[0][0]                    \n",
      "____________________________________________________________________________________________________\n",
      "dense_5 (Dense)                  (None, 10)            1010        batchnormalization_5[0][0]       \n",
      "====================================================================================================\n",
      "Total params: 19662116\n",
      "____________________________________________________________________________________________________\n"
     ]
    }
   ],
   "source": [
    "model = Sequential()\n",
    "model.add(BatchNormalization(axis=1, input_shape=(3,256,256)))\n",
    "model.add(Flatten())\n",
    "model.add(Dense(100, activation='relu'))\n",
    "model.add(BatchNormalization())\n",
    "model.add(Dense(10, activation='softmax'))\n",
    "model.compile(Adam(), loss='categorical_crossentropy', metrics=['accuracy'])\n",
    "\n",
    "model.summary()"
   ]
  },
  {
   "cell_type": "code",
   "execution_count": 72,
   "metadata": {
    "collapsed": false
   },
   "outputs": [
    {
     "name": "stdout",
     "output_type": "stream",
     "text": [
      "Epoch 1/3\n",
      "1000/1000 [==============================] - 19s - loss: 0.2680 - acc: 0.9860 - val_loss: 1.1185 - val_acc: 0.6920\n",
      "Epoch 2/3\n",
      "1000/1000 [==============================] - 15s - loss: 0.1777 - acc: 0.9960 - val_loss: 0.8746 - val_acc: 0.7840\n",
      "Epoch 3/3\n",
      "1000/1000 [==============================] - 15s - loss: 0.1291 - acc: 0.9980 - val_loss: 0.7733 - val_acc: 0.7560\n"
     ]
    },
    {
     "data": {
      "text/plain": [
       "<keras.callbacks.History at 0x7f7f4c1e3fd0>"
      ]
     },
     "execution_count": 72,
     "metadata": {},
     "output_type": "execute_result"
    }
   ],
   "source": [
    "# modify learning rate to see improvement\n",
    "model.optimizer.lr = 1e-5\n",
    "model.fit_generator(batches, batches.N, nb_epoch=3,\n",
    "                    validation_data=valid_batches, nb_val_samples=valid_batches.N)"
   ]
  },
  {
   "cell_type": "markdown",
   "metadata": {},
   "source": [
    "### Simple Conv layer"
   ]
  },
  {
   "cell_type": "code",
   "execution_count": 83,
   "metadata": {
    "collapsed": false
   },
   "outputs": [],
   "source": [
    "def get_conv_model():\n",
    "    model = Sequential()\n",
    "    model.add(BatchNormalization(axis=1, input_shape=(3,256,256)))\n",
    "    model.add(ZeroPadding2D((1,1)))\n",
    "    model.add(Convolution2D(64,3,3,activation='relu'))\n",
    "    model.add(BatchNormalization(axis=1))\n",
    "    model.add(MaxPooling2D((2,2)))\n",
    "    model.add(Flatten())\n",
    "    model.add(Dense(10, activation='softmax'))\n",
    "    model.compile(Adam(), loss='categorical_crossentropy', metrics=['accuracy'])\n",
    "    return model"
   ]
  },
  {
   "cell_type": "code",
   "execution_count": 82,
   "metadata": {
    "collapsed": false
   },
   "outputs": [
    {
     "name": "stdout",
     "output_type": "stream",
     "text": [
      "Epoch 1/3\n",
      "1000/1000 [==============================] - 25s - loss: 0.0248 - acc: 1.0000 - val_loss: 1.3129 - val_acc: 0.7080\n",
      "Epoch 2/3\n",
      "1000/1000 [==============================] - 23s - loss: 0.0213 - acc: 1.0000 - val_loss: 1.1785 - val_acc: 0.7800\n",
      "Epoch 3/3\n",
      "1000/1000 [==============================] - 22s - loss: 0.0180 - acc: 1.0000 - val_loss: 1.1804 - val_acc: 0.7640\n"
     ]
    },
    {
     "data": {
      "text/plain": [
       "<keras.callbacks.History at 0x7f7f3e413ed0>"
      ]
     },
     "execution_count": 82,
     "metadata": {},
     "output_type": "execute_result"
    }
   ],
   "source": [
    "# modify learning rate to see improvement\n",
    "model = get_conv_model()\n",
    "model.optimizer.lr = 1e-5\n",
    "model.fit_generator(batches, batches.N, nb_epoch=3,\n",
    "                    validation_data=valid_batches, nb_val_samples=valid_batches.N)"
   ]
  },
  {
   "cell_type": "markdown",
   "metadata": {},
   "source": [
    "### Data augmentation"
   ]
  },
  {
   "cell_type": "code",
   "execution_count": 84,
   "metadata": {
    "collapsed": false
   },
   "outputs": [
    {
     "name": "stdout",
     "output_type": "stream",
     "text": [
      "Found 1000 images belonging to 10 classes.\n"
     ]
    }
   ],
   "source": [
    "gen_t = image.ImageDataGenerator(rotation_range=15, height_shift_range=0.05, \n",
    "                shear_range=0.1, channel_shift_range=20, width_shift_range=0.1)\n",
    "batches = gen.flow_from_directory(SAMPLE_TRAIN_DATA_DIR, batch_size=64)"
   ]
  },
  {
   "cell_type": "code",
   "execution_count": 85,
   "metadata": {
    "collapsed": true
   },
   "outputs": [],
   "source": [
    "model = get_conv_model()"
   ]
  },
  {
   "cell_type": "code",
   "execution_count": 88,
   "metadata": {
    "collapsed": false
   },
   "outputs": [
    {
     "name": "stdout",
     "output_type": "stream",
     "text": [
      "Epoch 1/3\n",
      "1000/1000 [==============================] - 30s - loss: 0.0266 - acc: 1.0000 - val_loss: 1.1211 - val_acc: 0.7880\n",
      "Epoch 2/3\n",
      "1000/1000 [==============================] - 24s - loss: 0.0228 - acc: 1.0000 - val_loss: 1.1866 - val_acc: 0.7680\n",
      "Epoch 3/3\n",
      "1000/1000 [==============================] - 22s - loss: 0.0195 - acc: 1.0000 - val_loss: 1.1274 - val_acc: 0.7920\n"
     ]
    },
    {
     "data": {
      "text/plain": [
       "<keras.callbacks.History at 0x7f7f3c58c850>"
      ]
     },
     "execution_count": 88,
     "metadata": {},
     "output_type": "execute_result"
    }
   ],
   "source": [
    "# modify learning rate to see improvement\n",
    "model.optimizer.lr = 1e-4\n",
    "model.fit_generator(batches, batches.N, nb_epoch=3,\n",
    "                    validation_data=valid_batches, nb_val_samples=valid_batches.N)"
   ]
  },
  {
   "cell_type": "code",
   "execution_count": null,
   "metadata": {
    "collapsed": true
   },
   "outputs": [],
   "source": []
  }
 ],
 "metadata": {
  "anaconda-cloud": {},
  "kernelspec": {
   "display_name": "Python [conda root]",
   "language": "python",
   "name": "conda-root-py"
  },
  "language_info": {
   "codemirror_mode": {
    "name": "ipython",
    "version": 2
   },
   "file_extension": ".py",
   "mimetype": "text/x-python",
   "name": "python",
   "nbconvert_exporter": "python",
   "pygments_lexer": "ipython2",
   "version": "2.7.12"
  }
 },
 "nbformat": 4,
 "nbformat_minor": 2
}
